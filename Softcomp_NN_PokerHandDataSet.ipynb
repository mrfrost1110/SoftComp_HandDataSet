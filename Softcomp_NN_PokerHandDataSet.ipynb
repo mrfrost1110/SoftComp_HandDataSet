{
  "nbformat": 4,
  "nbformat_minor": 0,
  "metadata": {
    "colab": {
      "name": "Softcomp_NN_PokerHandDataSet.ipynb",
      "version": "0.3.2",
      "provenance": [],
      "collapsed_sections": [],
      "include_colab_link": true
    },
    "kernelspec": {
      "name": "python3",
      "display_name": "Python 3"
    }
  },
  "cells": [
    {
      "cell_type": "markdown",
      "metadata": {
        "id": "view-in-github",
        "colab_type": "text"
      },
      "source": [
        "<a href=\"https://colab.research.google.com/github/mrfrost1110/SoftComp_HandDataSet/blob/master/Softcomp_NN_PokerHandDataSet.ipynb\" target=\"_parent\"><img src=\"https://colab.research.google.com/assets/colab-badge.svg\" alt=\"Open In Colab\"/></a>"
      ]
    },
    {
      "cell_type": "code",
      "metadata": {
        "id": "zT33nb58h7vO",
        "colab_type": "code",
        "cellView": "form",
        "colab": {}
      },
      "source": [
        "#@title Import Library\n",
        "import numpy as np\n",
        "import pandas as pd\n",
        "from sklearn.preprocessing import StandardScaler\n",
        "from sklearn.model_selection import train_test_split\n",
        "from sklearn.neural_network import MLPClassifier\n",
        "from sklearn.metrics import accuracy_score\n",
        "from sklearn.decomposition import PCA"
      ],
      "execution_count": 0,
      "outputs": []
    },
    {
      "cell_type": "code",
      "metadata": {
        "id": "ItO5SkTMiB2k",
        "colab_type": "code",
        "cellView": "form",
        "colab": {}
      },
      "source": [
        "#@title Membaca Data Set Training dan Testing\n",
        "dataTraining = pd.read_table('https://archive.ics.uci.edu/ml/machine-learning-databases/poker/poker-hand-training-true.data',sep=',',names=['S1','C1','S2','C2','S3','C3','S4','C4','S5','C5','CLASS'])\n",
        "dataTesting = pd.read_table('https://archive.ics.uci.edu/ml/machine-learning-databases/poker/poker-hand-testing.data',sep=',',names=['S1','C1','S2','C2','S3','C3','S4','C4','S5','C5','CLASS'])"
      ],
      "execution_count": 0,
      "outputs": []
    },
    {
      "cell_type": "code",
      "metadata": {
        "id": "jAXKpHmPiFvm",
        "colab_type": "code",
        "cellView": "form",
        "colab": {}
      },
      "source": [
        "#@title Memisahkan X(Input), y(Output) Untuk Data Training dan Testing\n",
        "xTrain = dataTraining.iloc[:,0:10]\n",
        "yTrain = dataTraining.iloc[:,10]\n",
        "xTest = dataTesting.iloc[:,0:10]\n",
        "yTest = dataTesting.iloc[:,10]"
      ],
      "execution_count": 0,
      "outputs": []
    },
    {
      "cell_type": "code",
      "metadata": {
        "id": "LlqJbrI4jFjo",
        "colab_type": "code",
        "cellView": "form",
        "colab": {}
      },
      "source": [
        "#@title Normalisasi Data X(Input) Untuk Data Training dan Testing\n",
        "scaler = StandardScaler().fit(xTrain)\n",
        "xTrainNormalize = scaler.transform(xTrain)\n",
        "xTestNormalize = scaler.transform(xTest)"
      ],
      "execution_count": 0,
      "outputs": []
    },
    {
      "cell_type": "code",
      "metadata": {
        "id": "-S-DK93sjRwB",
        "colab_type": "code",
        "cellView": "form",
        "colab": {}
      },
      "source": [
        "#@title Mereduce Dimensional Data Training dan Testing, Sebanyak 95% Variance Yang Dipertahankan Dengan PCA\n",
        "pca = PCA(.95).fit(xTrainNormalize)\n",
        "xTrainPCAed = pca.transform(xTrainNormalize)\n",
        "xTestPCAed = pca.transform(xTestNormalize)"
      ],
      "execution_count": 0,
      "outputs": []
    },
    {
      "cell_type": "code",
      "metadata": {
        "id": "iXmXkVeukC1-",
        "colab_type": "code",
        "cellView": "form",
        "colab": {}
      },
      "source": [
        "#@title Inisialiasi Model NN Beserta Attributnya (Learning Rate, Iterasi, Hidden Layer)\n",
        "NN_Non_Normalize = MLPClassifier(hidden_layer_sizes=(40,40,40,40), learning_rate='adaptive',learning_rate_init=0.01, max_iter=20000, alpha=1e-6, solver='sgd', verbose=0, warm_start=True)\n",
        "NN_Normalize = MLPClassifier(hidden_layer_sizes=(40,40,40,40), learning_rate='adaptive',learning_rate_init=0.01, max_iter=20000, alpha=1e-6, solver='sgd', verbose=0, warm_start=True)\n",
        "NN_Normalize_PCA = MLPClassifier(hidden_layer_sizes=(40,40,40,40), learning_rate='adaptive',learning_rate_init=0.01, max_iter=20000, alpha=1e-6, solver='sgd', verbose=0, warm_start=True)"
      ],
      "execution_count": 0,
      "outputs": []
    },
    {
      "cell_type": "code",
      "metadata": {
        "id": "ECkjq9mdkrV_",
        "colab_type": "code",
        "colab": {},
        "cellView": "form"
      },
      "source": [
        "#@title Mencari Nilai Atribut Yang Terbaik Dengan Model NN Yang Telah Diinisialisasi Dengan Parameter Data X(Input) dan y(Output)\n",
        "NN_Non_Normalize.fit(xTrain, yTrain)\n",
        "NN_Normalize.fit(xTrainNormalize, yTrain)\n",
        "NN_Normalize_PCA.fit(xTrainPCAed, yTrain)"
      ],
      "execution_count": 0,
      "outputs": []
    },
    {
      "cell_type": "code",
      "metadata": {
        "id": "SOmMthdCm-U3",
        "colab_type": "code",
        "colab": {},
        "cellView": "form"
      },
      "source": [
        "#@title Mendapatkan Nilai y(Output) Prediksi Berdasarkan Attribut Model NN Yang Telah Dijalankan\n",
        "yPredict_Non_Normalize = NN_Non_Normalize.predict(xTest)\n",
        "yPredict_Normalize = NN_Normalize.predict(xTestNormalize)\n",
        "yPredict_Normalize_PCA = NN_Normalize_PCA.predict(xTestPCAed)"
      ],
      "execution_count": 0,
      "outputs": []
    },
    {
      "cell_type": "code",
      "metadata": {
        "id": "QyCu8z4uootr",
        "colab_type": "code",
        "colab": {
          "base_uri": "https://localhost:8080/",
          "height": 101
        },
        "cellView": "form",
        "outputId": "e0585872-1604-4dbd-d097-f3258e4d5490"
      },
      "source": [
        "#@title Akurasi Model NN (Non Normalisasi)\n",
        "print('==============(Non Normalisasi)==============');\n",
        "print('Akurasi NN Training Set: {:.4f}'.format(NN_Non_Normalize.score(xTrain, yTrain)*100))\n",
        "print('Akurasi NN Testing Set: {:.4f}'.format(NN_Non_Normalize.score(xTest, yTest)*100))\n",
        "print(accuracy_score(yPredict_Non_Normalize, yTest))\n",
        "print('============================================');"
      ],
      "execution_count": 23,
      "outputs": [
        {
          "output_type": "stream",
          "text": [
            "==============(Non Normalisasi)==============\n",
            "Akurasi NN Training Set: 99.4002\n",
            "Akurasi NN Testing Set: 98.3470\n",
            "0.98347\n",
            "============================================\n"
          ],
          "name": "stdout"
        }
      ]
    },
    {
      "cell_type": "code",
      "metadata": {
        "id": "EuttMmhtk9_v",
        "colab_type": "code",
        "colab": {
          "base_uri": "https://localhost:8080/",
          "height": 101
        },
        "cellView": "form",
        "outputId": "266d64c0-ba06-48ea-858b-95472406af6f"
      },
      "source": [
        "#@title Akurasi Model NN (Dengan Normalisasi)\n",
        "print('===============(Normalisasi)================');\n",
        "print('Akurasi NN Training Set: {:.4f}'.format(NN_Normalize.score(xTrainNormalize, yTrain)*100))\n",
        "print('Akurasi NN Testing Set: {:.4f}'.format(NN_Normalize.score(xTestNormalize, yTest)*100))\n",
        "print(accuracy_score(yPredict_Normalize, yTest))\n",
        "print('============================================');"
      ],
      "execution_count": 24,
      "outputs": [
        {
          "output_type": "stream",
          "text": [
            "===============(Normalisasi)================\n",
            "Akurasi NN Training Set: 99.5162\n",
            "Akurasi NN Testing Set: 98.4603\n",
            "0.984603\n",
            "============================================\n"
          ],
          "name": "stdout"
        }
      ]
    },
    {
      "cell_type": "code",
      "metadata": {
        "id": "OvHFoj80pNX6",
        "colab_type": "code",
        "colab": {
          "base_uri": "https://localhost:8080/",
          "height": 101
        },
        "cellView": "form",
        "outputId": "e8fda7cd-1fb0-4ad4-f3a0-c4bb654c8e58"
      },
      "source": [
        "#@title Akurasi Model NN (Dengan Normalisasi + PCA)\n",
        "print('=============(Normalisasi+PCA)==============');\n",
        "print('Akurasi NN Training Set: {:.4f}'.format(NN_Normalize_PCA.score(xTrainPCAed, yTrain)*100))\n",
        "print('Akurasi NN Testing Set: {:.4f}'.format(NN_Normalize_PCA.score(xTestPCAed, yTest)*100))\n",
        "print(accuracy_score(yPredict_Normalize_PCA, yTest))\n",
        "print('============================================');"
      ],
      "execution_count": 25,
      "outputs": [
        {
          "output_type": "stream",
          "text": [
            "=============(Normalisasi+PCA)==============\n",
            "Akurasi NN Training Set: 99.8721\n",
            "Akurasi NN Testing Set: 99.5827\n",
            "0.995827\n",
            "============================================\n"
          ],
          "name": "stdout"
        }
      ]
    }
  ]
}